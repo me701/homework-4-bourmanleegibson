{
 "cells": [
  {
   "cell_type": "markdown",
   "id": "34fe6ba9",
   "metadata": {
    "slideshow": {
     "slide_type": "slide"
    }
   },
   "source": [
    "# Solving Transient Problems\n",
    "\n",
    "\n",
    "Let's understand how to use `solve_ivp` and then apply it to our transient conduction problem."
   ]
  },
  {
   "cell_type": "code",
   "execution_count": 1,
   "id": "64016bee",
   "metadata": {
    "slideshow": {
     "slide_type": "subslide"
    }
   },
   "outputs": [],
   "source": [
    "import numpy as np\n",
    "import matplotlib.pyplot as plt\n",
    "from scipy.integrate import solve_ivp"
   ]
  },
  {
   "cell_type": "code",
   "execution_count": 2,
   "id": "f3f8b679",
   "metadata": {
    "slideshow": {
     "slide_type": "subslide"
    }
   },
   "outputs": [],
   "source": [
    "#help(solve_ivp)"
   ]
  },
  {
   "cell_type": "markdown",
   "id": "fd5bfd47",
   "metadata": {
    "slideshow": {
     "slide_type": "slide"
    }
   },
   "source": [
    "# Transient, Lumped-Parameter Analysis"
   ]
  },
  {
   "cell_type": "markdown",
   "id": "dad31868",
   "metadata": {
    "slideshow": {
     "slide_type": "subslide"
    }
   },
   "source": [
    "**Example**:  Solve the lumped-parameter equation\n",
    "\n",
    "$$\n",
    " C \\frac{d \\bar{T}}{dt} = - U(t) (\\bar{T}-T_{\\infty}(t)) + \\dot{Q}(t) \\, ,  \\quad \\bar{T}(0) = 95 \\, ,\n",
    "$$\n",
    "\n",
    "where $C = 10$ is the heat capacity of the lump, $U(t) = 5+5/(1+t)$ is the total heat transfer coefficient, and $\\dot{Q}=0$ is the heat-generation rate of the lump.   For now, assume $T_{\\infty}(t) = 35$ is constant. The nonlinear $U(t)$ is intended to represent a transfer process that slows with time $U(0) = 10$ and $U(\\infty) = 5$.  Realistic?  Not sure, but it makes the problem more interesting!\n"
   ]
  },
  {
   "cell_type": "markdown",
   "id": "1dfe545c",
   "metadata": {
    "slideshow": {
     "slide_type": "subslide"
    }
   },
   "source": [
    "First, rewrite as \n",
    "\n",
    "$$\n",
    " \\frac{d \\bar{T}}{dt} =  \\frac{\\dot{Q}(t) - U(t) (\\bar{T}-T_{\\infty}(t))}{C}\n",
    "$$\n",
    "\n",
    "Now, implement this derivative as a Python function:"
   ]
  },
  {
   "cell_type": "code",
   "execution_count": 3,
   "id": "42af2ce9",
   "metadata": {
    "slideshow": {
     "slide_type": "fragment"
    }
   },
   "outputs": [],
   "source": [
    "def T_prime(t, T_bar, C, U, Qdot, T_oo):\n",
    "    return (Qdot(t)-U(t)*(T_bar-T_oo(t)))/C"
   ]
  },
  {
   "cell_type": "markdown",
   "id": "f9bc1dfb",
   "metadata": {
    "slideshow": {
     "slide_type": "subslide"
    }
   },
   "source": [
    "The time span to consider isn't defined, but we probably want to go out far enough to be visually stable.  Recall, the time constant for such systems is $\\tau = C/U$.  That changes here, but $U$ bottoms out at 5, so $\\tau$ maxes at 2.  The \"5-$\\tau$\" rule says we'll be very close to the final number (assuming no heat generation!), a rule that is covered in depth in ME 535.  So, that means 10 s or so!"
   ]
  },
  {
   "cell_type": "code",
   "execution_count": 4,
   "id": "313cd043",
   "metadata": {
    "slideshow": {
     "slide_type": "fragment"
    }
   },
   "outputs": [],
   "source": [
    "t_initial = 0.0\n",
    "t_final = 90.0\n",
    "t_eval = np.linspace(t_initial, t_final, 100) # times at which we want the solution; otherwise, the solver selects!"
   ]
  },
  {
   "cell_type": "markdown",
   "id": "a4555202",
   "metadata": {
    "slideshow": {
     "slide_type": "subslide"
    }
   },
   "source": [
    "Define the initial conditions and other problem parameters:"
   ]
  },
  {
   "cell_type": "code",
   "execution_count": 5,
   "id": "0c89a8c4-fae5-46aa-9815-53f21edb27e4",
   "metadata": {},
   "outputs": [],
   "source": [
    "V = .03**2 * np.pi * 0.12\n",
    "SA = np.pi*(2*.03**2 + 0.06*0.12)"
   ]
  },
  {
   "cell_type": "code",
   "execution_count": 6,
   "id": "d2a3f814",
   "metadata": {
    "slideshow": {
     "slide_type": "fragment"
    }
   },
   "outputs": [],
   "source": [
    "T0 = 35.0 #100.0\n",
    "C = 1000 * 4220 * V # # 10\n",
    "U = lambda t: 1000 * (SA)\n",
    "Qdot = lambda t: 0.0\n",
    "T_oo = lambda t: 0.0 # 35.0"
   ]
  },
  {
   "cell_type": "markdown",
   "id": "a400a013",
   "metadata": {
    "slideshow": {
     "slide_type": "fragment"
    }
   },
   "source": [
    "How should $C$ and $U$ be defined for the case of our hot can in an ice bath?"
   ]
  },
  {
   "cell_type": "markdown",
   "id": "ee64321d",
   "metadata": {
    "slideshow": {
     "slide_type": "subslide"
    }
   },
   "source": [
    "Now, solve the problem!"
   ]
  },
  {
   "cell_type": "code",
   "execution_count": 7,
   "id": "823e053c",
   "metadata": {
    "slideshow": {
     "slide_type": "fragment"
    }
   },
   "outputs": [],
   "source": [
    "sol = solve_ivp(T_prime, [t_initial, t_final], [T0], \n",
    "                args=(C, U, Qdot, T_oo),\n",
    "                t_eval=t_eval)"
   ]
  },
  {
   "cell_type": "code",
   "execution_count": 8,
   "id": "1a7f11c9",
   "metadata": {
    "slideshow": {
     "slide_type": "subslide"
    }
   },
   "outputs": [
    {
     "data": {
      "text/plain": [
       "[<matplotlib.lines.Line2D at 0x732a05e4d590>]"
      ]
     },
     "execution_count": 8,
     "metadata": {},
     "output_type": "execute_result"
    },
    {
     "data": {
      "image/png": "[encoded data removed]",
      "text/plain": [
       "<Figure size 800x300 with 1 Axes>"
      ]
     },
     "metadata": {},
     "output_type": "display_data"
    }
   ],
   "source": [
    "plt.figure(figsize=(8,3))\n",
    "plt.plot(sol.t, sol.y[0], 'k')\n",
    "#plt.ylim(30, 105)"
   ]
  },
  {
   "cell_type": "markdown",
   "id": "cdf6e01b",
   "metadata": {
    "slideshow": {
     "slide_type": "fragment"
    }
   },
   "source": [
    "**Exercise**: Use Eq. (12) of the notes to \"verify\" this solution approach.  What do you need to change?"
   ]
  },
  {
   "cell_type": "markdown",
   "id": "ea51a80d",
   "metadata": {
    "slideshow": {
     "slide_type": "slide"
    }
   },
   "source": [
    "## Spatio-temporal Conduction"
   ]
  },
  {
   "cell_type": "markdown",
   "id": "fc6a835e",
   "metadata": {
    "slideshow": {
     "slide_type": "fragment"
    }
   },
   "source": [
    "Last time, we did this:\n",
    "\n",
    "$$\n",
    " -\\nabla k(r,z) \\nabla T = \\dot{q}'''(r, z) \\longrightarrow \\mathbf{A}\\mathbf{T} = \\mathbf{b} \\, .\n",
    "$$"
   ]
  },
  {
   "cell_type": "markdown",
   "id": "6b92ea10",
   "metadata": {
    "slideshow": {
     "slide_type": "fragment"
    }
   },
   "source": [
    "What about \n",
    "\n",
    "$$\n",
    "  \\frac{1}{\\rho c_p} \\frac{\\partial T}{\\partial t} = \\nabla k(r,z) \\nabla T + \\dot{q}'''(r, z, t) \\longrightarrow \\quad \\large{???} \\, .\n",
    "$$"
   ]
  },
  {
   "cell_type": "markdown",
   "id": "7437d8c5",
   "metadata": {
    "slideshow": {
     "slide_type": "fragment"
    }
   },
   "source": [
    "The basic idea is simple:\n",
    "\n",
    "$$\n",
    "   \\frac{d\\mathbf{T}}{dt} = \\rho c_p \\left ( -\\mathbf {A} + \\mathbf{b} \\right ) \\, ,\n",
    "$$         \n",
    "\n",
    "which matches the form needed for `solve_ivp`.\n",
    "\n",
    "**Caveat**: Dirichlet conditions require special treatment!  "
   ]
  },
  {
   "cell_type": "markdown",
   "id": "da0d758e",
   "metadata": {
    "slideshow": {
     "slide_type": "subslide"
    }
   },
   "source": [
    "Example. 3 axial cells with no radial dependence:\n",
    "\n",
    "$$\n",
    "\\dot{\\mathbf T}=\\frac{1}{\\rho c_p}\\left(\\mathbf b-\\mathbf A\\,\\mathbf T\\right),\n",
    "\\qquad\n",
    "\\mathbf T=\\begin{bmatrix}T_1\\\\[2pt]T_2\\\\[2pt]T_3\\end{bmatrix},\n",
    "$$\n",
    "\n",
    "$$\n",
    "\\mathbf A=\n",
    "\\begin{bmatrix}\n",
    "1 & 0 & 0\\\\[2pt]\n",
    "- D_S^{(2)} & D_S^{(2)}+D_N^{(2)} & - D_N^{(2)}\\\\[2pt]\n",
    "0 & - D_S^{(3)} & D_S^{(3)} + D_N^{(3)}\\,\\alpha_N\n",
    "\\end{bmatrix},\n",
    "\\qquad\n",
    "\\mathbf b=\n",
    "\\begin{bmatrix}\n",
    "T_b\\\\[2pt]\n",
    "q^{\\prime\\prime\\prime}_2\\\\[2pt]\n",
    "q^{\\prime\\prime\\prime}_3 + D_N^{(3)}\\,\\gamma_N\n",
    "\\end{bmatrix}.\n",
    "$$\n",
    "\n",
    "$$\n",
    "\\begin{aligned}\n",
    "& D_S^{(2)}=\\frac{k_{3/2}}{\\Delta z^2}, \\quad\n",
    "  D_N^{(2)}=\\frac{k_{5/2}}{\\Delta z^2}, \\quad\n",
    "  D_S^{(3)}=D_N^{(2)}, \\quad\n",
    "  D_N^{(3)}=\\frac{k_{3}}{\\Delta z^2}, \\\\[4pt]\n",
    "& k_{j\\pm\\frac12}=\\frac{2\\,k_j\\,k_{j\\pm1}}{k_j+k_{j\\pm1}}\n",
    "\\ \\text{(harmonic mean)}, \\qquad\n",
    "\\beta_N=\\frac{h\\,\\Delta z}{k_3}, \\quad\n",
    "\\alpha_N=\\frac{1-\\beta_N}{1+\\beta_N}, \\quad\n",
    "\\gamma_N=\\frac{2\\beta_N}{1+\\beta_N}\\,T_\\infty .\n",
    "\\end{aligned}\n",
    "$$\n"
   ]
  },
  {
   "cell_type": "markdown",
   "id": "25a085d0",
   "metadata": {
    "slideshow": {
     "slide_type": "subslide"
    }
   },
   "source": [
    "$$\n",
    "\\begin{aligned}\n",
    "\\dot T_1 &= \\frac{T_b - T_1}{\\rho c_p}\n",
    "\\quad\\text{erroneous \"relaxation\" from the Dirichlet identity row},\\\\\n",
    "\\dot T_2 &= \\frac{q^{\\prime\\prime\\prime}_2\n",
    "            - (D_S^{(2)}+D_N^{(2)})\\,T_2\n",
    "            + D_S^{(2)}\\,T_1\n",
    "            + D_N^{(2)}\\,T_3}{\\rho c_p},\\\\[4pt]\n",
    "\\dot T_3 &= \\frac{q^{\\prime\\prime\\prime}_3\n",
    "            + D_N^{(3)}\\,\\gamma_N\n",
    "            + D_S^{(3)}\\,T_2\n",
    "            - \\big(D_S^{(3)} + D_N^{(3)}\\,\\alpha_N\\big)\\,T_3}{\\rho c_p}.\n",
    "\\end{aligned}\n",
    "$$\n",
    "\n",
    "$$\n",
    "\\begin{aligned}\n",
    "& D_S^{(2)}=\\frac{k_{3/2}}{\\Delta z^2},\\quad\n",
    "  D_N^{(2)}=\\frac{k_{5/2}}{\\Delta z^2},\\quad\n",
    "  D_S^{(3)}=D_N^{(2)},\\quad\n",
    "  D_N^{(3)}=\\frac{k_3}{\\Delta z^2},\\\\[4pt]\n",
    "& k_{j\\pm\\frac12}=\\frac{2k_j k_{j\\pm1}}{k_j+k_{j\\pm1}},\\qquad\n",
    "  \\beta_N=\\frac{h\\,\\Delta z}{k_3},\\quad\n",
    "  \\alpha_N=\\frac{1-\\beta_N}{1+\\beta_N},\\quad\n",
    "  \\gamma_N=\\frac{2\\beta_N}{1+\\beta_N}\\,T_\\infty.\n",
    "\\end{aligned}\n",
    "$$"
   ]
  },
  {
   "cell_type": "code",
   "execution_count": 9,
   "id": "5814fd87",
   "metadata": {
    "slideshow": {
     "slide_type": "slide"
    }
   },
   "outputs": [],
   "source": [
    "from starter_code import construct_system"
   ]
  },
  {
   "cell_type": "code",
   "execution_count": 19,
   "id": "1b451fc2",
   "metadata": {
    "slideshow": {
     "slide_type": "fragment"
    }
   },
   "outputs": [],
   "source": [
    "N_r = 10\n",
    "N_z = 40\n",
    "\n",
    "r_edge = np.linspace(0, 0.03, N_r+1)\n",
    "z_edge = np.linspace(0, 0.12, N_z+1)\n",
    "\n",
    "r_center = r_edge[1:]-r_edge[0]/2\n",
    "z_center = z_edge[1:]-z_edge[0]/2"
   ]
  },
  {
   "cell_type": "code",
   "execution_count": 20,
   "id": "f6d1bf43",
   "metadata": {
    "slideshow": {
     "slide_type": "subslide"
    }
   },
   "outputs": [],
   "source": [
    "kfun = lambda r, z : 0.1\n",
    "qppp = lambda r, z : 0"
   ]
  },
  {
   "cell_type": "code",
   "execution_count": 21,
   "id": "480519cd",
   "metadata": {
    "slideshow": {
     "slide_type": "fragment"
    }
   },
   "outputs": [],
   "source": [
    "BC_z = ('dirichlet', 10)\n",
    "BC_r_top = ('dirichlet', 10)\n",
    "BC_r_bottom = ('dirichlet', 10)"
   ]
  },
  {
   "cell_type": "code",
   "execution_count": 22,
   "id": "e1b85e48",
   "metadata": {
    "slideshow": {
     "slide_type": "fragment"
    }
   },
   "outputs": [],
   "source": [
    "A, b = construct_system(r_center, z_center, kfun, qppp,\n",
    "                        BC_z, BC_r_top, BC_r_bottom)"
   ]
  },
  {
   "cell_type": "code",
   "execution_count": 23,
   "id": "a0e99a0b",
   "metadata": {},
   "outputs": [],
   "source": [
    "def T_prime(t, T, A, b, rho, c_p):\n",
    "    #print(A, T)\n",
    "    return (b - A@T)*rho*c_p"
   ]
  },
  {
   "cell_type": "code",
   "execution_count": 24,
   "id": "31f8fc0c",
   "metadata": {},
   "outputs": [],
   "source": [
    "rho = 1\n",
    "c_p = 4.0"
   ]
  },
  {
   "cell_type": "code",
   "execution_count": 37,
   "id": "4a1ad362",
   "metadata": {},
   "outputs": [],
   "source": [
    "T0 = 0*np.ones(A.shape[0])"
   ]
  },
  {
   "cell_type": "code",
   "execution_count": 38,
   "id": "a2387096",
   "metadata": {},
   "outputs": [],
   "source": [
    "A.shape\n",
    "\n",
    "t_initial = 0.0\n",
    "t_final = 10.0\n",
    "t_eval = np.linspace(t_initial, t_final, 50) # times at which we want the solution; otherwise, the solver selects!"
   ]
  },
  {
   "cell_type": "code",
   "execution_count": 39,
   "id": "e6dae651",
   "metadata": {},
   "outputs": [],
   "source": [
    "sol = solve_ivp(T_prime, [t_initial, t_final], T0, \n",
    "                args=(A, b, rho, c_p),\n",
    "                t_eval=t_eval)"
   ]
  },
  {
   "cell_type": "code",
   "execution_count": 50,
   "id": "984bbbb7-f93e-4671-be0e-ea34a2358e32",
   "metadata": {},
   "outputs": [
    {
     "data": {
      "image/png": "[encoded data removed]",
      "text/plain": [
       "<Figure size 640x480 with 2 Axes>"
      ]
     },
     "metadata": {},
     "output_type": "display_data"
    }
   ],
   "source": [
    "i = 49\n",
    "plt.imshow(sol.y[:,i].reshape((N_z, N_r)), cmap=\"inferno\",vmin=0,vmax=np.max(sol.y)); cbar = plt.colorbar();"
   ]
  },
  {
   "cell_type": "code",
   "execution_count": null,
   "id": "d8a0b117",
   "metadata": {},
   "outputs": [],
   "source": [
    "D = 0.06 # {m}\n",
    "\n",
    "mu = 17.916e-4 # {Pa*s}\n",
    "k = 555.75 / 1000 # {W/m*K}\n",
    "rho = 1000 # ~{kg/m^3}\n",
    "v = np.pi*D # {m/s}\n",
    "Cp = 4.22 * 1000 # {J/kg*K}\n",
    "\n",
    "Re = rho * v * D / mu\n",
    "Pr = Cp * mu / k\n",
    "#Nu = 0.664 * Re**0.5 * Pr**(1/3)\n",
    "Nu = 0.133 * Re**(2/3) * Pr**(1/3)\n",
    "HTC = Nu*k/D\n",
    "\n",
    "HTC,Re"
   ]
  },
  {
   "cell_type": "code",
   "execution_count": null,
   "id": "079bce4f",
   "metadata": {},
   "outputs": [],
   "source": [
    "T_bar_sol = [sol.y[:][i]/len(sol.y[:][i]) for i in range(len(sol.y))][0]"
   ]
  }
 ],
 "metadata": {
  "celltoolbar": "Slideshow",
  "kernelspec": {
   "display_name": "Python 3 (ipykernel)",
   "language": "python",
   "name": "python3"
  },
  "language_info": {
   "codemirror_mode": {
    "name": "ipython",
    "version": 3
   },
   "file_extension": ".py",
   "mimetype": "text/x-python",
   "name": "python",
   "nbconvert_exporter": "python",
   "pygments_lexer": "ipython3",
   "version": "3.13.7"
  },
  "rise": {
   "scroll": true
  }
 },
 "nbformat": 4,
 "nbformat_minor": 5
}
