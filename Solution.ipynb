{
 "cells": [
  {
   "cell_type": "code",
   "execution_count": 1,
   "id": "8bf249e8-0dac-4faa-8d26-32aca31c52aa",
   "metadata": {},
   "outputs": [],
   "source": [
    "import numpy as np\n",
    "import matplotlib.pyplot as plt\n",
    "from scipy.integrate import solve_ivp\n",
    "from scipy.sparse import csr_matrix\n",
    "from starter_code import construct_system"
   ]
  },
  {
   "cell_type": "code",
   "execution_count": 2,
   "id": "a8235416-4dca-4edb-ae03-7da784d584ed",
   "metadata": {},
   "outputs": [],
   "source": [
    "# Can Dimensions [m]\n",
    "h = 0.12\n",
    "r = 0.03\n",
    "d = 2*r\n",
    "\n",
    "kfun = lambda r, z : 0.58 #[W m-1 K-1] @ 10 C\n",
    "qppp = lambda r, z : 0 # no heat gen in can\n",
    "\n",
    "k = kfun(0,0)\n",
    "mu = 17.916e-4 # {Pa*s}\n",
    "rho = 1000 # ~{kg/m^3}\n",
    "w = np.pi*d # {m/s}\n",
    "c_p = 4.22 * 1000 # {J/kg*K}\n",
    "\n",
    "Re = rho * w * d / mu\n",
    "Pr = c_p * mu / k\n",
    "Nu = 0.133 * Re**(2/3) * Pr**(1/3)\n",
    "HTC = Nu*k/d\n",
    "\n",
    "T_oo = 1 # {C}"
   ]
  },
  {
   "cell_type": "code",
   "execution_count": 3,
   "id": "cbd08a5b-826f-4b73-80d7-8ef9c510e46b",
   "metadata": {},
   "outputs": [],
   "source": [
    "N_r = 30\n",
    "N_z = 120\n",
    "\n",
    "r_edge = np.linspace(0, r, N_r+1)\n",
    "z_edge = np.linspace(0, h, N_z+1)\n",
    "\n",
    "r_center = r_edge[1:]-r_edge[0]/2\n",
    "z_center = z_edge[1:]-z_edge[0]/2"
   ]
  },
  {
   "cell_type": "code",
   "execution_count": 4,
   "id": "50e9ed97-acc3-40d8-a918-045df82f490f",
   "metadata": {},
   "outputs": [],
   "source": [
    "BC_z = ('robin', HTC, T_oo)\n",
    "BC_r_top = ('neumann', 0)#('robin', HTC, T_oo)\n",
    "BC_r_bottom = ('neumann', 0)#('robin', HTC, T_oo)"
   ]
  },
  {
   "cell_type": "code",
   "execution_count": 5,
   "id": "c510a35b-cc20-4da1-9eb7-af179991c111",
   "metadata": {},
   "outputs": [],
   "source": [
    "A, b = construct_system(r_center, z_center, kfun, qppp,\n",
    "                        BC_z, BC_r_top, BC_r_bottom)\n",
    "A_spc = csr_matrix(A)"
   ]
  },
  {
   "cell_type": "code",
   "execution_count": 6,
   "id": "e183fa83-6c4d-4170-8c4f-4a6080bcad54",
   "metadata": {},
   "outputs": [],
   "source": [
    "#plt.imshow(T.reshape((N_z, N_r)), cmap=\"inferno\",vmin=0,vmax=max(T)); cbar = plt.colorbar();"
   ]
  },
  {
   "cell_type": "code",
   "execution_count": 20,
   "id": "07f144d6-fe30-4160-8bce-23d506c9f651",
   "metadata": {},
   "outputs": [],
   "source": [
    "def T_prime(t, T, A, b, rho, c_p):\n",
    "    return (b - A@T)*rho*c_p"
   ]
  },
  {
   "cell_type": "code",
   "execution_count": 21,
   "id": "15124947-9ecc-4429-8228-25b82deea857",
   "metadata": {},
   "outputs": [],
   "source": [
    "T0 = 35 * np.ones(A.shape[0]) # {deg C}\n",
    "\n",
    "t_initial = 0\n",
    "t_final = 0.001\n",
    "t_eval = np.linspace(t_initial, t_final, 100) # times at which we want the solution; otherwise, the solver selects!\n",
    "\n",
    "sol = solve_ivp(T_prime, [t_initial, t_final], T0, \n",
    "                args=(A_spc, b, rho, c_p),\n",
    "                t_eval=t_eval,\n",
    "                method='BDF')"
   ]
  },
  {
   "cell_type": "code",
   "execution_count": 24,
   "id": "82db4581-427e-4e44-a737-07216303db9f",
   "metadata": {},
   "outputs": [
    {
     "data": {
      "image/png": "[encoded data removed]",
      "text/plain": [
       "<Figure size 640x480 with 2 Axes>"
      ]
     },
     "metadata": {},
     "output_type": "display_data"
    }
   ],
   "source": [
    "i=1\n",
    "plt.imshow(sol.y[:,i].reshape((N_z, N_r)), cmap=\"inferno\"); cbar = plt.colorbar();"
   ]
  },
  {
   "cell_type": "code",
   "execution_count": 25,
   "id": "89ce69c3-b13b-4b15-95a9-8fdcb476059f",
   "metadata": {},
   "outputs": [
    {
     "data": {
      "text/plain": [
       "np.float64(0.9999999999999987)"
      ]
     },
     "execution_count": 25,
     "metadata": {},
     "output_type": "execute_result"
    }
   ],
   "source": [
    "max(sol.y[:,i])"
   ]
  },
  {
   "cell_type": "code",
   "execution_count": 26,
   "id": "6bba6856-c77d-4540-902e-e7ec79d121be",
   "metadata": {},
   "outputs": [
    {
     "data": {
      "text/plain": [
       "1033.5014755063557"
      ]
     },
     "execution_count": 26,
     "metadata": {},
     "output_type": "execute_result"
    }
   ],
   "source": []
  },
  {
   "cell_type": "code",
   "execution_count": null,
   "id": "159f2eaa-c7b7-4d6f-83c6-68ca7d9495e5",
   "metadata": {},
   "outputs": [],
   "source": []
  }
 ],
 "metadata": {
  "kernelspec": {
   "display_name": "Python 3 (ipykernel)",
   "language": "python",
   "name": "python3"
  },
  "language_info": {
   "codemirror_mode": {
    "name": "ipython",
    "version": 3
   },
   "file_extension": ".py",
   "mimetype": "text/x-python",
   "name": "python",
   "nbconvert_exporter": "python",
   "pygments_lexer": "ipython3",
   "version": "3.13.7"
  }
 },
 "nbformat": 4,
 "nbformat_minor": 5
}
